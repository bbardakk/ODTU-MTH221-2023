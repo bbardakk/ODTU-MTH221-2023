{
 "cells": [
  {
   "cell_type": "code",
   "execution_count": 3,
   "id": "96633bd6-d982-4968-b043-f56529252bb5",
   "metadata": {},
   "outputs": [],
   "source": [
    "import pandas as pd\n",
    "from sklearn import datasets\n",
    "from sklearn.model_selection import train_test_split\n",
    "from sklearn.ensemble import RandomForestClassifier\n",
    "from sklearn.metrics import accuracy_score\n",
    "import mlflow\n",
    "import mlflow.sklearn\n",
    "from sklearn.model_selection import GridSearchCV\n",
    "\n",
    "# Iris veri setini yükle\n",
    "iris = datasets.load_iris()\n",
    "X = iris.data\n",
    "y = iris.target\n",
    "class_names = iris.target_names\n",
    "\n",
    "# Veri setini eğitim ve test setlerine ayır\n",
    "X_train, X_test, y_train, y_test = train_test_split(X, y, test_size=0.3, random_state=42)\n"
   ]
  },
  {
   "cell_type": "code",
   "execution_count": 4,
   "id": "bd6ee801-b990-4f2a-b19f-401cfcd3497b",
   "metadata": {},
   "outputs": [
    {
     "name": "stderr",
     "output_type": "stream",
     "text": [
      "2023/11/28 15:54:56 WARNING mlflow.utils.environment: Encountered an unexpected error while inferring pip requirements (model URI: /tmp/tmp1avmppd0/model/model.pkl, flavor: sklearn), fall back to return ['scikit-learn==0.24.2', 'cloudpickle==2.2.1']. Set logging level to DEBUG to see the full traceback.\n"
     ]
    }
   ],
   "source": [
    "# Grid search için parametre gridi\n",
    "param_grid = {\n",
    "    'n_estimators': [10, 50, 100],\n",
    "    'max_depth': [None, 10, 20, 30]\n",
    "}\n",
    "\n",
    "# MLflow deneyini başlat\n",
    "with mlflow.start_run(run_name=\"RF Grid Search\") as run:\n",
    "    # Grid Search CV\n",
    "    rf = RandomForestClassifier(random_state=42)\n",
    "    grid_search = GridSearchCV(estimator=rf, param_grid=param_grid, cv=3)\n",
    "    grid_search.fit(X_train, y_train)\n",
    "\n",
    "    # En iyi parametreleri ve modeli al\n",
    "    best_params = grid_search.best_params_\n",
    "    best_model = grid_search.best_estimator_\n",
    "\n",
    "    # Tahmin yap ve doğruluğu hesapla\n",
    "    predictions = best_model.predict(X_test)\n",
    "    accuracy = accuracy_score(y_test, predictions)\n",
    "\n",
    "    # Deney bilgilerini kaydet\n",
    "    mlflow.log_params(best_params)\n",
    "    mlflow.log_metric(\"accuracy\", accuracy)\n",
    "    mlflow.sklearn.log_model(best_model, \"best_model\")\n",
    "\n",
    "    # Deneyin sahibi ve açıklamasını kaydet\n",
    "    mlflow.set_tag(\"owner\", \"Your Name\")\n",
    "    mlflow.set_tag(\"description\", \"RF Grid Search on Iris Dataset\")"
   ]
  },
  {
   "cell_type": "code",
   "execution_count": 4,
   "id": "3bb1e2a7-e7e3-467b-aece-b908f2ea0f0d",
   "metadata": {},
   "outputs": [],
   "source": [
    "# # MLflow deneyini başlat\n",
    "# with mlflow.start_run():\n",
    "\n",
    "#     # Modeli oluştur ve eğit\n",
    "#     model = RandomForestClassifier(random_state=42)\n",
    "#     model.fit(X_train, y_train)\n",
    "\n",
    "#     # Tahmin yap ve doğruluğu hesapla\n",
    "#     predictions = model.predict(X_test)\n",
    "#     accuracy = accuracy_score(y_test, predictions)\n",
    "\n",
    "#     # Parametreleri ve metrikleri kaydet\n",
    "#     mlflow.log_param(\"random_state\", 42)\n",
    "#     mlflow.log_metric(\"accuracy\", accuracy)\n",
    "\n",
    "#     # Modeli MLflow'a kaydet\n",
    "#     mlflow.sklearn.log_model(model, \"model\")\n"
   ]
  },
  {
   "cell_type": "code",
   "execution_count": null,
   "id": "56597653-813f-4892-8fc1-4e835e6f9bc2",
   "metadata": {},
   "outputs": [],
   "source": []
  }
 ],
 "metadata": {
  "kernelspec": {
   "display_name": "Python 3 (ipykernel)",
   "language": "python",
   "name": "python3"
  },
  "language_info": {
   "codemirror_mode": {
    "name": "ipython",
    "version": 3
   },
   "file_extension": ".py",
   "mimetype": "text/x-python",
   "name": "python",
   "nbconvert_exporter": "python",
   "pygments_lexer": "ipython3",
   "version": "3.8.10"
  }
 },
 "nbformat": 4,
 "nbformat_minor": 5
}
