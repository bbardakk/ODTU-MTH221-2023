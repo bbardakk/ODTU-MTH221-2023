{
 "cells": [
  {
   "cell_type": "code",
   "execution_count": 2,
   "id": "b75b964d-2236-4ec6-adf6-1b9fdb9762ae",
   "metadata": {},
   "outputs": [],
   "source": [
    "#!pip install tpot"
   ]
  },
  {
   "cell_type": "code",
   "execution_count": 10,
   "id": "ac5f582a-129c-4f86-a7d7-7330313135dc",
   "metadata": {},
   "outputs": [],
   "source": [
    "from sklearn.datasets import load_iris\n",
    "from sklearn.model_selection import train_test_split\n",
    "\n",
    "iris = load_iris()\n",
    "X = iris.data\n",
    "y = iris.target\n",
    "\n",
    "X_train, X_test, y_train, y_test = train_test_split(X, y, test_size=0.3, random_state=42)\n"
   ]
  },
  {
   "cell_type": "code",
   "execution_count": 11,
   "id": "e2eb2153-66ed-4c4c-90be-5cb752fd56c6",
   "metadata": {},
   "outputs": [
    {
     "data": {
      "application/vnd.jupyter.widget-view+json": {
       "model_id": "",
       "version_major": 2,
       "version_minor": 0
      },
      "text/plain": [
       "Optimization Progress:   0%|          | 0/300 [00:00<?, ?pipeline/s]"
      ]
     },
     "metadata": {},
     "output_type": "display_data"
    },
    {
     "name": "stdout",
     "output_type": "stream",
     "text": [
      "\n",
      "Generation 1 - Current best internal CV score: 0.9619047619047618\n",
      "\n",
      "Generation 2 - Current best internal CV score: 0.9619047619047618\n",
      "\n",
      "Generation 3 - Current best internal CV score: 0.9714285714285715\n",
      "\n",
      "Generation 4 - Current best internal CV score: 0.9714285714285715\n",
      "\n",
      "Generation 5 - Current best internal CV score: 0.9714285714285715\n",
      "\n",
      "Best pipeline: MLPClassifier(input_matrix, alpha=0.001, learning_rate_init=0.1)\n",
      "0.9777777777777777\n"
     ]
    }
   ],
   "source": [
    "from tpot import TPOTClassifier\n",
    "\n",
    "tpot = TPOTClassifier(generations=5, population_size=50, verbosity=2, random_state=42)\n",
    "tpot.fit(X_train, y_train)\n",
    "\n",
    "print(tpot.score(X_test, y_test))\n",
    "\n",
    "tpot.export('best_pipeline.py')\n"
   ]
  },
  {
   "cell_type": "code",
   "execution_count": 5,
   "id": "439bc69e-8e38-4f77-a08a-a5a4a5395a80",
   "metadata": {},
   "outputs": [],
   "source": [
    "#https://github.com/automl/auto-sklearn\n",
    "#https://github.com/EpistasisLab/tpot"
   ]
  }
 ],
 "metadata": {
  "kernelspec": {
   "display_name": "Python 3 (ipykernel)",
   "language": "python",
   "name": "python3"
  },
  "language_info": {
   "codemirror_mode": {
    "name": "ipython",
    "version": 3
   },
   "file_extension": ".py",
   "mimetype": "text/x-python",
   "name": "python",
   "nbconvert_exporter": "python",
   "pygments_lexer": "ipython3",
   "version": "3.8.10"
  }
 },
 "nbformat": 4,
 "nbformat_minor": 5
}
