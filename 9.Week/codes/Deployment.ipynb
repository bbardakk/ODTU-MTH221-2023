{
 "cells": [
  {
   "cell_type": "code",
   "execution_count": 1,
   "id": "000c4929-a58f-4736-ada0-e2c8814fa3bd",
   "metadata": {},
   "outputs": [],
   "source": [
    "#!pip install pandas scikit-learn streamlit"
   ]
  },
  {
   "cell_type": "code",
   "execution_count": 2,
   "id": "6276ec62-b1ca-45e9-8e03-a6c7f2ece93f",
   "metadata": {},
   "outputs": [
    {
     "name": "stdout",
     "output_type": "stream",
     "text": [
      "   sepal length (cm)  sepal width (cm)  petal length (cm)  petal width (cm)  \\\n",
      "0                5.1               3.5                1.4               0.2   \n",
      "1                4.9               3.0                1.4               0.2   \n",
      "2                4.7               3.2                1.3               0.2   \n",
      "3                4.6               3.1                1.5               0.2   \n",
      "4                5.0               3.6                1.4               0.2   \n",
      "\n",
      "   target  \n",
      "0       0  \n",
      "1       0  \n",
      "2       0  \n",
      "3       0  \n",
      "4       0  \n"
     ]
    }
   ],
   "source": [
    "import pandas as pd\n",
    "from sklearn.datasets import load_iris\n",
    "\n",
    "iris = load_iris()\n",
    "df = pd.DataFrame(iris.data, columns=iris.feature_names)\n",
    "df['target'] = iris.target\n",
    "\n",
    "print(df.head())"
   ]
  },
  {
   "cell_type": "code",
   "execution_count": 3,
   "id": "05ef024b-92a9-43a7-9d10-1d57892c539d",
   "metadata": {},
   "outputs": [
    {
     "name": "stdout",
     "output_type": "stream",
     "text": [
      "Accuracy: 1.0\n"
     ]
    }
   ],
   "source": [
    "from sklearn.model_selection import train_test_split\n",
    "from sklearn.linear_model import LogisticRegression\n",
    "from sklearn.metrics import accuracy_score\n",
    "\n",
    "# Split train test data \n",
    "X_train, X_test, y_train, y_test = train_test_split(df[iris.feature_names], df['target'], test_size=0.3, random_state=42)\n",
    "\n",
    "# Train Model\n",
    "model = LogisticRegression(max_iter=200)\n",
    "model.fit(X_train, y_train)\n",
    "\n",
    "# Make Prediction\n",
    "predictions = model.predict(X_test)\n",
    "print(\"Accuracy:\", accuracy_score(y_test, predictions))\n"
   ]
  },
  {
   "cell_type": "code",
   "execution_count": 4,
   "id": "d98ae0f7-8ba5-4e53-ab26-8dd7927332ce",
   "metadata": {},
   "outputs": [
    {
     "name": "stderr",
     "output_type": "stream",
     "text": [
      "2023-11-28 15:48:35.200 \n",
      "  \u001b[33m\u001b[1mWarning:\u001b[0m to view this Streamlit app on a browser, run it with the following\n",
      "  command:\n",
      "\n",
      "    streamlit run /home/batu/Desktop/metu-mth221/ODTU-MTH221-2023/venv_metu/lib/python3.8/site-packages/ipykernel_launcher.py [ARGUMENTS]\n",
      "/home/batu/Desktop/metu-mth221/ODTU-MTH221-2023/venv_metu/lib/python3.8/site-packages/sklearn/linear_model/_logistic.py:763: ConvergenceWarning: lbfgs failed to converge (status=1):\n",
      "STOP: TOTAL NO. of ITERATIONS REACHED LIMIT.\n",
      "\n",
      "Increase the number of iterations (max_iter) or scale the data as shown in:\n",
      "    https://scikit-learn.org/stable/modules/preprocessing.html\n",
      "Please also refer to the documentation for alternative solver options:\n",
      "    https://scikit-learn.org/stable/modules/linear_model.html#logistic-regression\n",
      "  n_iter_i = _check_optimize_result(\n"
     ]
    }
   ],
   "source": [
    "import streamlit as st\n",
    "import pandas as pd\n",
    "from sklearn.linear_model import LogisticRegression\n",
    "from sklearn.datasets import load_iris\n",
    "\n",
    "st.title('Prediction of IRIS Flower')\n",
    "\n",
    "\n",
    "iris = load_iris()\n",
    "df = pd.DataFrame(iris.data, columns=iris.feature_names)\n",
    "df['target'] = iris.target\n",
    "\n",
    "# User input Slider\n",
    "st.sidebar.header('Adjust Features')\n",
    "def user_input_features():\n",
    "    sepal_length = st.sidebar.slider('Sepal Length', 4.3, 7.9, 5.4)\n",
    "    sepal_width = st.sidebar.slider('Sepal Width', 2.0, 4.4, 3.4)\n",
    "    petal_length = st.sidebar.slider('Petal Length', 1.0, 6.9, 1.3)\n",
    "    petal_width = st.sidebar.slider('Petal Width', 0.1, 2.5, 0.2)\n",
    "    return pd.DataFrame([[sepal_length, sepal_width, petal_length, petal_width]], columns=iris.feature_names)\n",
    "\n",
    "input_df = user_input_features()\n",
    "\n",
    "# Train Model\n",
    "X = df[iris.feature_names]\n",
    "y = df['target']\n",
    "model = LogisticRegression()\n",
    "model.fit(X, y)\n",
    "\n",
    "# Inference\n",
    "prediction = model.predict(input_df)\n",
    "prediction_proba = model.predict_proba(input_df)\n",
    "\n",
    "# Show user inputs and the outputs\n",
    "st.subheader('Inputs')\n",
    "st.write(input_df)\n",
    "\n",
    "st.subheader('Prediction')\n",
    "st.write(iris.target_names[prediction])\n",
    "st.write('Probability')\n",
    "st.write(prediction_proba)\n"
   ]
  },
  {
   "cell_type": "code",
   "execution_count": null,
   "id": "c589113d-cc55-44d7-8168-1ecca43c70e2",
   "metadata": {},
   "outputs": [],
   "source": [
    "#streamlit run your_script.py"
   ]
  }
 ],
 "metadata": {
  "kernelspec": {
   "display_name": "Python 3 (ipykernel)",
   "language": "python",
   "name": "python3"
  },
  "language_info": {
   "codemirror_mode": {
    "name": "ipython",
    "version": 3
   },
   "file_extension": ".py",
   "mimetype": "text/x-python",
   "name": "python",
   "nbconvert_exporter": "python",
   "pygments_lexer": "ipython3",
   "version": "3.8.10"
  }
 },
 "nbformat": 4,
 "nbformat_minor": 5
}
