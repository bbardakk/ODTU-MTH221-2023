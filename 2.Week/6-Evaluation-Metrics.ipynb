{
 "cells": [
  {
   "cell_type": "code",
   "execution_count": 3,
   "id": "78875c35-3ca5-4d2b-bf89-6aec3cf2b3aa",
   "metadata": {},
   "outputs": [
    {
     "name": "stdout",
     "output_type": "stream",
     "text": [
      "Accuracy: 0.9590643274853801\n",
      "Precision: 0.9469026548672567\n",
      "Recall: 0.9907407407407407\n",
      "F1 Score: 0.9683257918552035\n",
      "ROC AUC Score: 0.995296884185773\n",
      "Confusion Matrix:\n",
      "[[ 57   6]\n",
      " [  1 107]]\n"
     ]
    }
   ],
   "source": [
    "from sklearn.datasets import load_breast_cancer\n",
    "from sklearn.model_selection import train_test_split\n",
    "from sklearn.neighbors import KNeighborsClassifier\n",
    "from sklearn.metrics import accuracy_score, precision_score, recall_score, f1_score, roc_auc_score, confusion_matrix\n",
    "\n",
    "# Load the breast cancer dataset\n",
    "data = load_breast_cancer()\n",
    "X = data.data\n",
    "y = data.target\n",
    "\n",
    "# Split data into training and test sets\n",
    "X_train, X_test, y_train, y_test = train_test_split(X, y, test_size=0.3, random_state=42)\n",
    "\n",
    "# Use KNN for classification\n",
    "knn = KNeighborsClassifier(n_neighbors=5)\n",
    "knn.fit(X_train, y_train)\n",
    "\n",
    "# Predict on test set\n",
    "y_pred = knn.predict(X_test)\n",
    "\n",
    "# Evaluation metrics\n",
    "accuracy = accuracy_score(y_test, y_pred)\n",
    "precision = precision_score(y_test, y_pred)\n",
    "recall = recall_score(y_test, y_pred)\n",
    "f1 = f1_score(y_test, y_pred)\n",
    "roc_auc = roc_auc_score(y_test, knn.predict_proba(X_test)[:, 1])  # using probability scores for class 1\n",
    "conf_matrix = confusion_matrix(y_test, y_pred)\n",
    "\n",
    "print(f\"Accuracy: {accuracy}\")\n",
    "print(f\"Precision: {precision}\")\n",
    "print(f\"Recall: {recall}\")\n",
    "print(f\"F1 Score: {f1}\")\n",
    "print(f\"ROC AUC Score: {roc_auc}\")\n",
    "print(f\"Confusion Matrix:\\n{conf_matrix}\")"
   ]
  },
  {
   "cell_type": "markdown",
   "id": "384ce7b4-03f1-4b12-8204-a638130ce05f",
   "metadata": {},
   "source": [
    "**Accuracy**: It's the ratio of correctly predicted observation to the total observations.\n",
    "> Accuracy = (True Positives + True Negatives) / (True Positives + False Positives + True Negatives + False Negatives)\n",
    "\n",
    "**Precision**: Precision talks about how precise/accurate the model is, i.e., out of all the predicted positive instances, how many of them were actual positive.\n",
    "> Precision = True Positives / (True Positives + False Positives)\n",
    "\n",
    "**Recall (Sensitivity)**: Recall calculates how many of the actual positive cases were caught by the model.\n",
    "> Recall = True Positives / (True Positives + False Negatives)\n",
    "\n",
    "**F1 Score**: It's the weighted average of Precision and Recall. It tries to find the balance between precision and recall.\n",
    "> F1 Score = 2*(Recall * Precision) / (Recall + Precision)\n"
   ]
  }
 ],
 "metadata": {
  "kernelspec": {
   "display_name": "Python 3 (ipykernel)",
   "language": "python",
   "name": "python3"
  },
  "language_info": {
   "codemirror_mode": {
    "name": "ipython",
    "version": 3
   },
   "file_extension": ".py",
   "mimetype": "text/x-python",
   "name": "python",
   "nbconvert_exporter": "python",
   "pygments_lexer": "ipython3",
   "version": "3.8.10"
  }
 },
 "nbformat": 4,
 "nbformat_minor": 5
}
